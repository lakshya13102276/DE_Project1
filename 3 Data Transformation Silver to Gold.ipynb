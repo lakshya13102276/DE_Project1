{
 "cells": [
  {
   "cell_type": "markdown",
   "metadata": {
    "application/vnd.databricks.v1+cell": {
     "cellMetadata": {
      "byteLimit": 2048000,
      "rowLimit": 10000
     },
     "inputWidgets": {},
     "nuid": "02b578b6-9d81-4e19-b60d-364d6dbabee6",
     "showTitle": false,
     "title": ""
    }
   },
   "source": [
    "## Data Transformation Level 2\n"
   ]
  },
  {
   "cell_type": "markdown",
   "metadata": {
    "application/vnd.databricks.v1+cell": {
     "cellMetadata": {
      "byteLimit": 2048000,
      "rowLimit": 10000
     },
     "inputWidgets": {},
     "nuid": "57791da8-9c4b-4744-b38f-3678be90b28e",
     "showTitle": false,
     "title": ""
    }
   },
   "source": [
    "##### Call all the associated files from Silver Container"
   ]
  },
  {
   "cell_type": "code",
   "execution_count": 0,
   "metadata": {
    "application/vnd.databricks.v1+cell": {
     "cellMetadata": {
      "byteLimit": 2048000,
      "rowLimit": 10000
     },
     "inputWidgets": {},
     "nuid": "2b938e7e-3029-4324-b5f4-4a833e1c97ad",
     "showTitle": false,
     "title": ""
    }
   },
   "outputs": [],
   "source": [
    "df_bowling_silver = spark.read.format(\"delta\").load(\"/mnt/saprojectone/silver-project1/bowling\",header=\"True\")"
   ]
  },
  {
   "cell_type": "code",
   "execution_count": 0,
   "metadata": {
    "application/vnd.databricks.v1+cell": {
     "cellMetadata": {
      "byteLimit": 2048000,
      "rowLimit": 10000
     },
     "inputWidgets": {},
     "nuid": "2de8481f-d5f4-48f7-9f4b-b15150d96ea6",
     "showTitle": false,
     "title": ""
    }
   },
   "outputs": [],
   "source": [
    "df_bating_silver = spark.read.format(\"delta\").load(\"/mnt/saprojectone/silver-project1/bating\",header=\"True\")"
   ]
  },
  {
   "cell_type": "code",
   "execution_count": 0,
   "metadata": {
    "application/vnd.databricks.v1+cell": {
     "cellMetadata": {
      "byteLimit": 2048000,
      "rowLimit": 10000
     },
     "inputWidgets": {},
     "nuid": "9b479d59-57bb-43d7-b920-598fc7dbd316",
     "showTitle": false,
     "title": ""
    }
   },
   "outputs": [],
   "source": [
    "df_tour_silver = spark.read.format(\"delta\").load(\"/mnt/saprojectone/silver-project1/tour\",header=\"True\")"
   ]
  },
  {
   "cell_type": "markdown",
   "metadata": {
    "application/vnd.databricks.v1+cell": {
     "cellMetadata": {
      "byteLimit": 2048000,
      "rowLimit": 10000
     },
     "inputWidgets": {},
     "nuid": "c889fd44-e787-4752-8ea7-793962886001",
     "showTitle": false,
     "title": ""
    }
   },
   "source": [
    "##### Making Dimension and Fact Tables in normalised form to store in Data Warehouse."
   ]
  },
  {
   "cell_type": "code",
   "execution_count": 0,
   "metadata": {
    "application/vnd.databricks.v1+cell": {
     "cellMetadata": {
      "byteLimit": 2048000,
      "rowLimit": 10000
     },
     "inputWidgets": {},
     "nuid": "54889d97-f13b-4f2b-9471-56ea6b701afc",
     "showTitle": false,
     "title": ""
    }
   },
   "outputs": [],
   "source": [
    "df_facts_bating = df_bating_silver.drop(*[\"player_name\",\"country\"])"
   ]
  },
  {
   "cell_type": "code",
   "execution_count": 0,
   "metadata": {
    "application/vnd.databricks.v1+cell": {
     "cellMetadata": {
      "byteLimit": 2048000,
      "rowLimit": 10000
     },
     "inputWidgets": {},
     "nuid": "394b5329-cddb-4e86-99ee-fa6a411e44d1",
     "showTitle": false,
     "title": ""
    }
   },
   "outputs": [],
   "source": [
    "df_dim_player = df_bating_silver[\"player_id\",\"player_name\",\"country\",\"ingestion_date\"].fillna({\"country\":\"IND\"})"
   ]
  },
  {
   "cell_type": "code",
   "execution_count": 0,
   "metadata": {
    "application/vnd.databricks.v1+cell": {
     "cellMetadata": {
      "byteLimit": 2048000,
      "rowLimit": 10000
     },
     "inputWidgets": {},
     "nuid": "90c8c116-09bc-4add-92d1-848e4aaa3fea",
     "showTitle": false,
     "title": ""
    }
   },
   "outputs": [],
   "source": [
    "df_facts_bolwing = df_bowling_silver.drop(\"player_name\")"
   ]
  },
  {
   "cell_type": "code",
   "execution_count": 0,
   "metadata": {
    "application/vnd.databricks.v1+cell": {
     "cellMetadata": {
      "byteLimit": 2048000,
      "rowLimit": 10000
     },
     "inputWidgets": {},
     "nuid": "dd2f54e4-5119-4bb6-a0eb-d7ba405a970b",
     "showTitle": false,
     "title": ""
    }
   },
   "outputs": [],
   "source": [
    "from pyspark.sql.functions import monotonically_increasing_id, lit"
   ]
  },
  {
   "cell_type": "code",
   "execution_count": 0,
   "metadata": {
    "application/vnd.databricks.v1+cell": {
     "cellMetadata": {
      "byteLimit": 2048000,
      "rowLimit": 10000
     },
     "inputWidgets": {},
     "nuid": "176af7ba-87ac-400d-81a3-b9e776fb67bc",
     "showTitle": false,
     "title": ""
    }
   },
   "outputs": [],
   "source": [
    "from pyspark.sql.functions import col\n"
   ]
  },
  {
   "cell_type": "markdown",
   "metadata": {
    "application/vnd.databricks.v1+cell": {
     "cellMetadata": {
      "byteLimit": 2048000,
      "rowLimit": 10000
     },
     "inputWidgets": {},
     "nuid": "7807d749-84e7-4917-a479-5a8bb7a82990",
     "showTitle": false,
     "title": ""
    }
   },
   "source": [
    "##### Making Transformations to Tournament Table to replace the names with repective cont_id and player_id"
   ]
  },
  {
   "cell_type": "code",
   "execution_count": 0,
   "metadata": {
    "application/vnd.databricks.v1+cell": {
     "cellMetadata": {
      "byteLimit": 2048000,
      "rowLimit": 10000
     },
     "inputWidgets": {},
     "nuid": "a6ba8ee2-4630-4542-9bfb-f8055784d722",
     "showTitle": false,
     "title": ""
    }
   },
   "outputs": [],
   "source": [
    "df_tour_silver.createOrReplaceTempView(\"temp_view_tour\")\n",
    "df_dim_player.createOrReplaceTempView(\"temp_view_player\")"
   ]
  },
  {
   "cell_type": "code",
   "execution_count": 0,
   "metadata": {
    "application/vnd.databricks.v1+cell": {
     "cellMetadata": {
      "byteLimit": 2048000,
      "rowLimit": 10000
     },
     "inputWidgets": {},
     "nuid": "70dc6a8a-96bf-4288-b309-9789d0cb0bf3",
     "showTitle": false,
     "title": ""
    }
   },
   "outputs": [],
   "source": [
    "joined_player_tour = spark.sql(\"\"\"\n",
    "    SELECT \n",
    "        df_tour_silver.final_id,\n",
    "        df_tour_silver.date_final,\n",
    "        df_tour_silver.nbr_teams,\n",
    "        df_tour_silver.game_format,\n",
    "        df_tour_silver.venue,\n",
    "        df_tour_silver.venue_choice,\n",
    "        df_tour_silver.winner,\n",
    "        df_tour_silver.runner_up,\n",
    "        df_tour_silver.toss_win,\n",
    "        df_tour_silver.bowling_select,\n",
    "        df_tour_silver.player_top_scorer,\n",
    "        df_tour_silver.player_top_wkts,\n",
    "        df_tour_silver.player_series,\n",
    "        df_tour_silver.ingestion_date,\n",
    "        COALESCE(df_dim_player_scorer.player_id, -1) AS player_top_scorer_id,\n",
    "        COALESCE(df_dim_player_wkts.player_id, -1) AS player_top_wkts_id,\n",
    "        COALESCE(df_dim_player_series.player_id, -1) AS player_series_id\n",
    "    FROM \n",
    "        temp_view_tour df_tour_silver\n",
    "    LEFT JOIN \n",
    "        temp_view_player df_dim_player_scorer\n",
    "    ON \n",
    "        df_tour_silver.player_top_scorer = df_dim_player_scorer.player_name\n",
    "    LEFT JOIN \n",
    "        temp_view_player df_dim_player_wkts\n",
    "    ON \n",
    "        df_tour_silver.player_top_wkts = df_dim_player_wkts.player_name\n",
    "    LEFT JOIN \n",
    "        temp_view_player df_dim_player_series\n",
    "    ON \n",
    "        df_tour_silver.player_series = df_dim_player_series.player_name\n",
    "\"\"\")"
   ]
  },
  {
   "cell_type": "code",
   "execution_count": 0,
   "metadata": {
    "application/vnd.databricks.v1+cell": {
     "cellMetadata": {
      "byteLimit": 2048000,
      "rowLimit": 10000
     },
     "inputWidgets": {},
     "nuid": "c6f276a2-d4b8-416d-8532-d15b46729496",
     "showTitle": false,
     "title": ""
    }
   },
   "outputs": [],
   "source": [
    "from pyspark.sql.functions import monotonically_increasing_id"
   ]
  },
  {
   "cell_type": "code",
   "execution_count": 0,
   "metadata": {
    "application/vnd.databricks.v1+cell": {
     "cellMetadata": {
      "byteLimit": 2048000,
      "rowLimit": 10000
     },
     "inputWidgets": {},
     "nuid": "d33e5c26-b1e4-4696-a5a2-c81495f33abf",
     "showTitle": false,
     "title": ""
    }
   },
   "outputs": [],
   "source": [
    "df_dim_contestant = ((joined_player_tour.selectExpr(\"winner as contestant\").union(joined_player_tour.selectExpr(\"runner_up as contestant\")))).distinct().withColumn(\"cont_id\", monotonically_increasing_id()+1)"
   ]
  },
  {
   "cell_type": "code",
   "execution_count": 0,
   "metadata": {
    "application/vnd.databricks.v1+cell": {
     "cellMetadata": {
      "byteLimit": 2048000,
      "rowLimit": 10000
     },
     "inputWidgets": {},
     "nuid": "04c8407e-4d94-4dd3-9818-fa79d84697f6",
     "showTitle": false,
     "title": ""
    }
   },
   "outputs": [],
   "source": [
    "joined_player_tour.createOrReplaceTempView(\"temp_view_join_tbl\")\n",
    "df_dim_contestant.createOrReplaceTempView(\"temp_view_cont\")"
   ]
  },
  {
   "cell_type": "code",
   "execution_count": 0,
   "metadata": {
    "application/vnd.databricks.v1+cell": {
     "cellMetadata": {
      "byteLimit": 2048000,
      "rowLimit": 10000
     },
     "inputWidgets": {},
     "nuid": "53565d49-4939-4a32-81b2-d82026bab175",
     "showTitle": false,
     "title": ""
    }
   },
   "outputs": [],
   "source": [
    "df_fact_tour = spark.sql(\"\"\"\n",
    "    SELECT \n",
    "        joined_player_tour.final_id,\n",
    "        joined_player_tour.date_final,\n",
    "        joined_player_tour.nbr_teams,\n",
    "        joined_player_tour.game_format,\n",
    "        joined_player_tour.venue,\n",
    "        COALESCE(df_dim_contestant_vc.cont_id, -1) AS venue_choice_cont,\n",
    "        COALESCE(df_dim_contestant_w.cont_id, -1) AS winner_cont,\n",
    "        COALESCE(df_dim_contestant_ru.cont_id, -1) AS runnerup_cont,\n",
    "        COALESCE(df_dim_contestant_tw.cont_id, -1) AS toss_win_cont,\n",
    "        joined_player_tour.bowling_select,\n",
    "        joined_player_tour.ingestion_date,\n",
    "        joined_player_tour.player_top_scorer_id,\n",
    "        joined_player_tour.player_top_wkts_id,\n",
    "        joined_player_tour.player_series_id\n",
    "    FROM \n",
    "        temp_view_join_tbl joined_player_tour\n",
    "    LEFT JOIN \n",
    "        temp_view_cont df_dim_contestant_vc\n",
    "    ON \n",
    "        joined_player_tour.venue_choice = df_dim_contestant_vc.contestant\n",
    "       LEFT JOIN \n",
    "        temp_view_cont df_dim_contestant_w\n",
    "    ON \n",
    "        joined_player_tour.winner = df_dim_contestant_w.contestant\n",
    "       LEFT JOIN \n",
    "        temp_view_cont df_dim_contestant_ru\n",
    "    ON \n",
    "        joined_player_tour.runner_up = df_dim_contestant_ru.contestant\n",
    "       LEFT JOIN \n",
    "        temp_view_cont df_dim_contestant_tw\n",
    "    ON \n",
    "        joined_player_tour.toss_win = df_dim_contestant_tw.contestant\n",
    "    \n",
    "\n",
    "\"\"\")"
   ]
  },
  {
   "cell_type": "code",
   "execution_count": 0,
   "metadata": {
    "application/vnd.databricks.v1+cell": {
     "cellMetadata": {
      "byteLimit": 2048000,
      "rowLimit": 10000
     },
     "inputWidgets": {},
     "nuid": "9dda3d25-7eba-4c30-abe2-f77f2f703e5b",
     "showTitle": false,
     "title": ""
    }
   },
   "outputs": [],
   "source": [
    "df_facts_bating.write.mode(\"overwrite\").format(\"delta\").save(\"/mnt/saprojectone/gold-project1/ckt/bating\")\n",
    "df_facts_bolwing.write.mode(\"overwrite\").format(\"delta\").save(\"/mnt/saprojectone/gold-project1/ckt/bowling\")\n",
    "df_dim_player.write.mode(\"overwrite\").format(\"delta\").save(\"/mnt/saprojectone/gold-project1/ckt/players\")\n",
    "df_dim_contestant.write.mode(\"overwrite\").format(\"delta\").save(\"/mnt/saprojectone/gold-project1/ckt/cont\")\n",
    "df_fact_tour.write.mode(\"overwrite\").format(\"delta\").save(\"/mnt/saprojectone/gold-project1/ckt/tour\")"
   ]
  }
 ],
 "metadata": {
  "application/vnd.databricks.v1+notebook": {
   "dashboards": [],
   "environmentMetadata": null,
   "language": "python",
   "notebookMetadata": {
    "mostRecentlyExecutedCommandWithImplicitDF": {
     "commandId": 1980696629279787,
     "dataframes": [
      "_sqldf"
     ]
    },
    "pythonIndentUnit": 4
   },
   "notebookName": "3 Data Transformation Silver to Gold",
   "widgets": {}
  }
 },
 "nbformat": 4,
 "nbformat_minor": 0
}
