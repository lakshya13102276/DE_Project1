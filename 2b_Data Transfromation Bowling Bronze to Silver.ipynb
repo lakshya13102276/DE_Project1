{
 "cells": [
  {
   "cell_type": "markdown",
   "metadata": {
    "application/vnd.databricks.v1+cell": {
     "cellMetadata": {
      "byteLimit": 2048000,
      "rowLimit": 10000
     },
     "inputWidgets": {},
     "nuid": "02b578b6-9d81-4e19-b60d-364d6dbabee6",
     "showTitle": false,
     "title": ""
    }
   },
   "source": [
    "## Data Transformation Level 1 \n",
    "##### Transforming data in Bowling Directory to dataframe and adding ingestion date."
   ]
  },
  {
   "cell_type": "code",
   "execution_count": 0,
   "metadata": {
    "application/vnd.databricks.v1+cell": {
     "cellMetadata": {
      "byteLimit": 2048000,
      "rowLimit": 10000
     },
     "inputWidgets": {},
     "nuid": "387374e4-180c-49a3-b996-0bbdc568af4a",
     "showTitle": false,
     "title": ""
    }
   },
   "outputs": [
    {
     "output_type": "execute_result",
     "data": {
      "text/plain": [
       "[FileInfo(path='dbfs:/mnt/saprojectone/bronze-project1/bowling/cricket_bowling_01', name='cricket_bowling_01', size=4008, modificationTime=1719192383000)]"
      ]
     },
     "execution_count": 1,
     "metadata": {},
     "output_type": "execute_result"
    }
   ],
   "source": [
    "dbutils.fs.ls(\"/mnt/saprojectone/bronze-project1/bowling\")"
   ]
  },
  {
   "cell_type": "markdown",
   "metadata": {
    "application/vnd.databricks.v1+cell": {
     "cellMetadata": {
      "byteLimit": 2048000,
      "rowLimit": 10000
     },
     "inputWidgets": {},
     "nuid": "57791da8-9c4b-4744-b38f-3678be90b28e",
     "showTitle": false,
     "title": ""
    }
   },
   "source": [
    "##### Defining the schema ourself for the bating Dataframe"
   ]
  },
  {
   "cell_type": "code",
   "execution_count": 0,
   "metadata": {
    "application/vnd.databricks.v1+cell": {
     "cellMetadata": {
      "byteLimit": 2048000,
      "rowLimit": 10000
     },
     "inputWidgets": {},
     "nuid": "a209cb30-1bdf-4c7a-a436-2bd5aacc0680",
     "showTitle": false,
     "title": ""
    }
   },
   "outputs": [],
   "source": [
    "from pyspark.sql.types import StructType ,StructField,IntegerType,DoubleType,StringType"
   ]
  },
  {
   "cell_type": "code",
   "execution_count": 0,
   "metadata": {
    "application/vnd.databricks.v1+cell": {
     "cellMetadata": {
      "byteLimit": 2048000,
      "rowLimit": 10000
     },
     "inputWidgets": {},
     "nuid": "60ef16e7-9428-4dea-86c0-5cccf3362a90",
     "showTitle": false,
     "title": ""
    }
   },
   "outputs": [],
   "source": [
    "schema_bowling = StructType([\n",
    "    StructField(\"player_id\", IntegerType(), False),\n",
    "    StructField(\"player_name\", StringType(), False),\n",
    "    StructField(\"nbr_match\", IntegerType(), True),\n",
    "    StructField(\"balls\", IntegerType(), True),\n",
    "    StructField(\"runs\", IntegerType(), True),\n",
    "    StructField(\"wkts\", IntegerType(), True),\n",
    "    StructField(\"bbi\", StringType(), True),\n",
    "    StructField(\"avg_b\", DoubleType(), True),\n",
    "    StructField(\"econ\", DoubleType(), True),\n",
    "    StructField(\"sr\", DoubleType(), True),\n",
    "    StructField(\"five_wkt\", IntegerType(), True),\n",
    "    StructField(\"w_per_ovr\", DoubleType(), True),\n",
    "])"
   ]
  },
  {
   "cell_type": "code",
   "execution_count": 0,
   "metadata": {
    "application/vnd.databricks.v1+cell": {
     "cellMetadata": {
      "byteLimit": 2048000,
      "rowLimit": 10000
     },
     "inputWidgets": {},
     "nuid": "2de8481f-d5f4-48f7-9f4b-b15150d96ea6",
     "showTitle": false,
     "title": ""
    }
   },
   "outputs": [],
   "source": [
    "df_bowling_raw = spark.read.csv(\"/mnt/saprojectone/bronze-project1/bowling\",header=\"True\", schema=schema_bowling)"
   ]
  },
  {
   "cell_type": "markdown",
   "metadata": {
    "application/vnd.databricks.v1+cell": {
     "cellMetadata": {
      "byteLimit": 2048000,
      "rowLimit": 10000
     },
     "inputWidgets": {},
     "nuid": "91f8737a-01b6-476a-bb79-bec81d902ae6",
     "showTitle": false,
     "title": ""
    }
   },
   "source": [
    "##### Removing the unused columns from the Dataframe"
   ]
  },
  {
   "cell_type": "code",
   "execution_count": 0,
   "metadata": {
    "application/vnd.databricks.v1+cell": {
     "cellMetadata": {
      "byteLimit": 2048000,
      "rowLimit": 10000
     },
     "inputWidgets": {},
     "nuid": "54889d97-f13b-4f2b-9471-56ea6b701afc",
     "showTitle": false,
     "title": ""
    }
   },
   "outputs": [],
   "source": [
    "df_bowling_t1 = df_bowling_raw.drop(*[\"w_per_ovr\"])"
   ]
  },
  {
   "cell_type": "markdown",
   "metadata": {
    "application/vnd.databricks.v1+cell": {
     "cellMetadata": {
      "byteLimit": 2048000,
      "rowLimit": 10000
     },
     "inputWidgets": {},
     "nuid": "d3c824b1-b4f4-4d5f-aa29-2381fca41ccb",
     "showTitle": false,
     "title": ""
    }
   },
   "source": [
    "##### Adding Ingestion date column"
   ]
  },
  {
   "cell_type": "code",
   "execution_count": 0,
   "metadata": {
    "application/vnd.databricks.v1+cell": {
     "cellMetadata": {
      "byteLimit": 2048000,
      "rowLimit": 10000
     },
     "inputWidgets": {},
     "nuid": "ae643673-8b60-41a2-85c2-7f021b8a116b",
     "showTitle": false,
     "title": ""
    }
   },
   "outputs": [],
   "source": [
    "from pyspark.sql.functions import current_timestamp"
   ]
  },
  {
   "cell_type": "code",
   "execution_count": 0,
   "metadata": {
    "application/vnd.databricks.v1+cell": {
     "cellMetadata": {
      "byteLimit": 2048000,
      "rowLimit": 10000
     },
     "inputWidgets": {},
     "nuid": "d2396e1f-1a81-4e5b-8bae-8729b5519564",
     "showTitle": false,
     "title": ""
    }
   },
   "outputs": [],
   "source": [
    "df_bowling_t2 = df_bowling_t1.withColumn(\"ingestion_date\",current_timestamp())"
   ]
  },
  {
   "cell_type": "markdown",
   "metadata": {
    "application/vnd.databricks.v1+cell": {
     "cellMetadata": {},
     "inputWidgets": {},
     "nuid": "598f7f48-bf53-40e9-8b2f-17ab68c138c6",
     "showTitle": false,
     "title": ""
    }
   },
   "source": [
    "\n",
    "##### Copying the data in the Silver container for 2nd level of transformation"
   ]
  },
  {
   "cell_type": "code",
   "execution_count": 0,
   "metadata": {
    "application/vnd.databricks.v1+cell": {
     "cellMetadata": {
      "byteLimit": 2048000,
      "rowLimit": 10000
     },
     "inputWidgets": {},
     "nuid": "9dda3d25-7eba-4c30-abe2-f77f2f703e5b",
     "showTitle": false,
     "title": ""
    }
   },
   "outputs": [],
   "source": [
    "df_bowling_t2.write.mode(\"overwrite\").format(\"delta\").save(\"/mnt/saprojectone/silver-project1/bowling\")"
   ]
  }
 ],
 "metadata": {
  "application/vnd.databricks.v1+notebook": {
   "dashboards": [],
   "environmentMetadata": null,
   "language": "python",
   "notebookMetadata": {
    "pythonIndentUnit": 4
   },
   "notebookName": "2b_Data Transfromation Bowling Bronze to Silver",
   "widgets": {}
  }
 },
 "nbformat": 4,
 "nbformat_minor": 0
}
